{
 "cells": [
  {
   "cell_type": "code",
   "execution_count": 8,
   "id": "972fbe7b-47a2-43fa-b921-70fa6beeb462",
   "metadata": {},
   "outputs": [
    {
     "data": {
      "text/latex": [
       "$\\displaystyle \\left[\\begin{matrix}- \\sin{\\left(\\theta{\\left(t \\right)} \\right)} \\frac{d}{d t} \\psi{\\left(t \\right)} + \\frac{d}{d t} \\phi{\\left(t \\right)}\\\\\\sin{\\left(\\phi{\\left(t \\right)} \\right)} \\cos{\\left(\\theta{\\left(t \\right)} \\right)} \\frac{d}{d t} \\psi{\\left(t \\right)} + \\cos{\\left(\\phi{\\left(t \\right)} \\right)} \\frac{d}{d t} \\theta{\\left(t \\right)}\\\\- \\sin{\\left(\\phi{\\left(t \\right)} \\right)} \\frac{d}{d t} \\theta{\\left(t \\right)} + \\cos{\\left(\\phi{\\left(t \\right)} \\right)} \\cos{\\left(\\theta{\\left(t \\right)} \\right)} \\frac{d}{d t} \\psi{\\left(t \\right)}\\end{matrix}\\right]$"
      ],
      "text/plain": [
       "Matrix([\n",
       "[                          -sin(theta(t))*Derivative(psi(t), t) + Derivative(phi(t), t)],\n",
       "[ sin(phi(t))*cos(theta(t))*Derivative(psi(t), t) + cos(phi(t))*Derivative(theta(t), t)],\n",
       "[-sin(phi(t))*Derivative(theta(t), t) + cos(phi(t))*cos(theta(t))*Derivative(psi(t), t)]])"
      ]
     },
     "metadata": {},
     "output_type": "display_data"
    },
    {
     "name": "stdout",
     "output_type": "stream",
     "text": [
      "space\n"
     ]
    },
    {
     "data": {
      "text/latex": [
       "$\\displaystyle \\left[\\begin{matrix}\\cos{\\left(\\psi{\\left(t \\right)} \\right)} \\cos{\\left(\\theta{\\left(t \\right)} \\right)} & \\sin{\\left(\\phi{\\left(t \\right)} \\right)} \\sin{\\left(\\theta{\\left(t \\right)} \\right)} \\cos{\\left(\\psi{\\left(t \\right)} \\right)} - \\sin{\\left(\\psi{\\left(t \\right)} \\right)} \\cos{\\left(\\phi{\\left(t \\right)} \\right)} & \\sin{\\left(\\phi{\\left(t \\right)} \\right)} \\sin{\\left(\\psi{\\left(t \\right)} \\right)} + \\sin{\\left(\\theta{\\left(t \\right)} \\right)} \\cos{\\left(\\phi{\\left(t \\right)} \\right)} \\cos{\\left(\\psi{\\left(t \\right)} \\right)}\\\\\\sin{\\left(\\psi{\\left(t \\right)} \\right)} \\cos{\\left(\\theta{\\left(t \\right)} \\right)} & \\sin{\\left(\\phi{\\left(t \\right)} \\right)} \\sin{\\left(\\psi{\\left(t \\right)} \\right)} \\sin{\\left(\\theta{\\left(t \\right)} \\right)} + \\cos{\\left(\\phi{\\left(t \\right)} \\right)} \\cos{\\left(\\psi{\\left(t \\right)} \\right)} & - \\sin{\\left(\\phi{\\left(t \\right)} \\right)} \\cos{\\left(\\psi{\\left(t \\right)} \\right)} + \\sin{\\left(\\psi{\\left(t \\right)} \\right)} \\sin{\\left(\\theta{\\left(t \\right)} \\right)} \\cos{\\left(\\phi{\\left(t \\right)} \\right)}\\\\- \\sin{\\left(\\theta{\\left(t \\right)} \\right)} & \\sin{\\left(\\phi{\\left(t \\right)} \\right)} \\cos{\\left(\\theta{\\left(t \\right)} \\right)} & \\cos{\\left(\\phi{\\left(t \\right)} \\right)} \\cos{\\left(\\theta{\\left(t \\right)} \\right)}\\end{matrix}\\right]$"
      ],
      "text/plain": [
       "Matrix([\n",
       "[cos(psi(t))*cos(theta(t)), sin(phi(t))*sin(theta(t))*cos(psi(t)) - sin(psi(t))*cos(phi(t)),  sin(phi(t))*sin(psi(t)) + sin(theta(t))*cos(phi(t))*cos(psi(t))],\n",
       "[sin(psi(t))*cos(theta(t)), sin(phi(t))*sin(psi(t))*sin(theta(t)) + cos(phi(t))*cos(psi(t)), -sin(phi(t))*cos(psi(t)) + sin(psi(t))*sin(theta(t))*cos(phi(t))],\n",
       "[           -sin(theta(t)),                                       sin(phi(t))*cos(theta(t)),                                        cos(phi(t))*cos(theta(t))]])"
      ]
     },
     "metadata": {},
     "output_type": "display_data"
    }
   ],
   "source": [
    "\n",
    "from sympy import *\n",
    "\n",
    "t=symbols('t')\n",
    "\n",
    "x=Function('x')\n",
    "y=Function('y')\n",
    "z=Function('z')\n",
    "phi=Function('phi')\n",
    "theta=Function('theta')\n",
    "psi=Function('psi')\n",
    "\n",
    "#position matrixs \n",
    "xi=Matrix([[x(t)],[y(t)],[z(t)]])\n",
    "eta=Matrix([[phi(t)],[theta(t)],[psi(t)]])\n",
    "\n",
    "deta=diff(eta,t)\n",
    "dxi=diff(xi,t)\n",
    "ddeta=diff(deta,t)\n",
    "ddxi=diff(dxi,t)\n",
    "\n",
    "#angular velocity of quadcopter \n",
    "w=Matrix([[1,0,-1*sin(theta(t))],[0,cos(phi(t)),cos(theta(t))*sin(phi(t))],[0,-1*sin(phi(t)),cos(theta(t))*cos(phi(t))]])@deta\n",
    "display(w)\n",
    "\n",
    "#rotation matrix from body frame to inertial frame \n",
    "\n",
    "R=Matrix([\n",
    "    [cos(psi(t))*cos(theta(t)),cos(psi(t))*sin(phi(t))*sin(theta(t))-cos(phi(t))*sin(psi(t)),cos(phi(t))*cos(psi(t))*sin(theta(t)) + sin(phi(t))*sin(psi(t))],\n",
    "    [cos(theta(t))*sin(psi(t)),sin(phi(t))*sin(psi(t))*sin(theta(t)) + cos(phi(t))*cos(psi(t)),cos(phi(t))*sin(psi(t))*sin(theta(t)) - cos(psi(t))*sin(phi(t))],\n",
    "    [-sin(theta(t)),sin(phi(t))*cos(theta(t)),cos(theta(t))*cos(phi(t))]\n",
    "])\n",
    "\n",
    "m,g,K_dx,K_dy,K_dz,K_T,w1,w2,w3,w4=symbols('m,g,K_dx,K_dy,K_dz,K_T,w1,w2,w3,w4')\n",
    "\n",
    "F_d=Matrix([[K_dx,0,0],[0,K_dy,0],[0,0,K_dz]])@(R@dxi)\n",
    "Fgt=Matrix([[0],[0],[K_T*(w1**2+w2**2+w3**2+w4**2)]])\n",
    "\n",
    "I_x,I_y,I_z,I_r,l,K_d=symbols('I_x,I_y,I_z,I_r,l,K_d')\n",
    "\n",
    "\n",
    "tau_phi=l*K_T*(w4**2 - w2**2)\n",
    "tau_theta=l*K_T*(w1**2 - w3**2)\n",
    "tau_psi=K_d*(w1**2 - w2**2 + w3**2 - w4**2)\n",
    "\n",
    "ddeta=(Matrix([[0],[0],[-m*g]])+R@Fgt)/m\n",
    "# display(ddeta)\n",
    "\n",
    "print('space')\n",
    "dw=Matrix([[tau_phi/I_x],[tau_theta/I_y],[tau_psi/I_z]])-Matrix([[(I_y-I_z)*(w[1])*(w[2])/I_x],[(I_z-I_x)*(w[0])*(w[2])/I_y],[(I_x-I_y)*(w[0])*(w[1])/I_z]])\n",
    "# display(dw)\n"
   ]
  },
  {
   "cell_type": "code",
   "execution_count": null,
   "id": "a85831a2-d09d-4853-a60f-885078099927",
   "metadata": {},
   "outputs": [],
   "source": []
  },
  {
   "cell_type": "code",
   "execution_count": null,
   "id": "14cc01b0",
   "metadata": {},
   "outputs": [],
   "source": []
  },
  {
   "cell_type": "code",
   "execution_count": null,
   "id": "f8091845",
   "metadata": {},
   "outputs": [],
   "source": []
  },
  {
   "cell_type": "code",
   "execution_count": null,
   "id": "5df0035b",
   "metadata": {},
   "outputs": [],
   "source": []
  },
  {
   "cell_type": "code",
   "execution_count": null,
   "id": "6e072aec",
   "metadata": {},
   "outputs": [],
   "source": []
  }
 ],
 "metadata": {
  "kernelspec": {
   "display_name": "Python 3 (ipykernel)",
   "language": "python",
   "name": "python3"
  },
  "language_info": {
   "codemirror_mode": {
    "name": "ipython",
    "version": 3
   },
   "file_extension": ".py",
   "mimetype": "text/x-python",
   "name": "python",
   "nbconvert_exporter": "python",
   "pygments_lexer": "ipython3",
   "version": "3.11.5"
  }
 },
 "nbformat": 4,
 "nbformat_minor": 5
}
